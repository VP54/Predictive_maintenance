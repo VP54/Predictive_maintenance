{
 "cells": [
  {
   "cell_type": "code",
   "execution_count": 2,
   "metadata": {},
   "outputs": [],
   "source": [
    "from sklearn.metrics import classification_report \n",
    "import numpy as np\n",
    "import pandas as pd\n",
    "from typing import Optional\n"
   ]
  },
  {
   "cell_type": "code",
   "execution_count": 8,
   "metadata": {},
   "outputs": [],
   "source": [
    "class ScoreModel:\n",
    "    def __init__(self, data: pd.DataFrame, y_true: str, y_pred: str, names: Optional[str] = None):\n",
    "        self.data = data\n",
    "        self.y_true = y_true\n",
    "        self.y_pred = y_pred\n",
    "        self.names = names\n",
    "\n",
    "    def _classification_report(self, save_report: Optional[bool] = True):\n",
    "        \n",
    "        if save_report == False:\n",
    "            return classification_report(self.y_true, self.y_pred, output_dict=True)\n",
    "        else:\n",
    "            report = pd.DataFrame(classification_report(self.y_true, self.y_pred, output_dict=True)).transpose()\n",
    "            report.to_csv(f\"./data/classification_report_{NOW}.csv\")\n",
    "            \n",
    "            return report\n",
    "        \n",
    "        "
   ]
  }
 ],
 "metadata": {
  "kernelspec": {
   "display_name": "Python 3",
   "language": "python",
   "name": "python3"
  },
  "language_info": {
   "codemirror_mode": {
    "name": "ipython",
    "version": 3
   },
   "file_extension": ".py",
   "mimetype": "text/x-python",
   "name": "python",
   "nbconvert_exporter": "python",
   "pygments_lexer": "ipython3",
   "version": "3.9.6 (default, Oct 18 2022, 12:41:40) \n[Clang 14.0.0 (clang-1400.0.29.202)]"
  },
  "orig_nbformat": 4,
  "vscode": {
   "interpreter": {
    "hash": "31f2aee4e71d21fbe5cf8b01ff0e069b9275f58929596ceb00d14d90e3e16cd6"
   }
  }
 },
 "nbformat": 4,
 "nbformat_minor": 2
}
