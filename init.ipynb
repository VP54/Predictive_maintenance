{
 "cells": [
  {
   "cell_type": "code",
   "execution_count": 1,
   "metadata": {},
   "outputs": [],
   "source": [
    "from typing import Optional\n",
    "import os\n",
    "\n",
    "class InitFolders:\n",
    "    def __init__(self, folders, need_install_libs: Optional[bool] = None):\n",
    "        self.folders = folders\n",
    "        self.need_install_libs = need_install_libs\n",
    "    \n",
    "    def _install_libs(self):\n",
    "\n",
    "        if self.need_install_libs ==True:\n",
    "\n",
    "            with os.popen(\"pip install pandas\") as f:\n",
    "                print(f.readlines())\n",
    "\n",
    "            with os.popen(\"pip install -U scikit-learn\") as f:\n",
    "                print(f.readlines())\n",
    "\n",
    "            with os.popen(\"pip install scikit-plot\") as f:\n",
    "                print(f.readlines())\n",
    "\n",
    "            with os.popen(\"pip install seaborn\") as f:\n",
    "                print(f.readlines())\n",
    "\n",
    "            with os.popen(\"pip install xgboost\") as f:\n",
    "                print(f.readlines())\n",
    "\n",
    "        else:\n",
    "            pass\n",
    "\n",
    "    @staticmethod\n",
    "    def _create_folder(name: str):\n",
    "\n",
    "        return os.makedirs(name)\n",
    "\n",
    "    def _init_folders(self, BASE_PATH: Optional[str] = None):\n",
    "        \n",
    "        if BASE_PATH is not None:\n",
    "            for folder in self.folders:\n",
    "                if folder not in os.listdir(BASE_PATH):\n",
    "                    self._create_folder(folder)\n",
    "        else:\n",
    "            for folder in self.folders:\n",
    "                if folder not in os.listdir(\"./\"):\n",
    "                    self._create_folder(folder)\n",
    "                    \n",
    "    def INIT(self, BASE_PATH: Optional[str] = None):\n",
    "        self._init_folders(BASE_PATH)\n",
    "        self._install_libs()   "
   ]
  }
 ],
 "metadata": {
  "kernelspec": {
   "display_name": "Python 3",
   "language": "python",
   "name": "python3"
  },
  "language_info": {
   "codemirror_mode": {
    "name": "ipython",
    "version": 3
   },
   "file_extension": ".py",
   "mimetype": "text/x-python",
   "name": "python",
   "nbconvert_exporter": "python",
   "pygments_lexer": "ipython3",
   "version": "3.9.6"
  },
  "orig_nbformat": 4,
  "vscode": {
   "interpreter": {
    "hash": "31f2aee4e71d21fbe5cf8b01ff0e069b9275f58929596ceb00d14d90e3e16cd6"
   }
  }
 },
 "nbformat": 4,
 "nbformat_minor": 2
}
