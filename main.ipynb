{
 "cells": [
  {
   "cell_type": "code",
   "execution_count": null,
   "metadata": {},
   "outputs": [],
   "source": [
    "%run preprocess.ipynb"
   ]
  },
  {
   "cell_type": "code",
   "execution_count": null,
   "metadata": {},
   "outputs": [],
   "source": [
    "%run plot.ipynb"
   ]
  },
  {
   "cell_type": "code",
   "execution_count": null,
   "metadata": {},
   "outputs": [],
   "source": [
    "%run imp.ipynb"
   ]
  },
  {
   "cell_type": "code",
   "execution_count": null,
   "metadata": {},
   "outputs": [],
   "source": [
    "%run predict.ipynb"
   ]
  },
  {
   "cell_type": "code",
   "execution_count": null,
   "metadata": {},
   "outputs": [],
   "source": [
    "import os\n",
    "from typing import Optional\n",
    "import pandas as pd\n",
    "import numpy as np"
   ]
  },
  {
   "cell_type": "code",
   "execution_count": null,
   "metadata": {},
   "outputs": [],
   "source": [
    "class InitFolders:\n",
    "    def __init__(self, folders, need_install_libs: Optional[bool] = None):\n",
    "        self.folders = folders\n",
    "    \n",
    "    def _install_libs(self):\n",
    "\n",
    "        if (self.need_inneed_install_libsstall is not None) and (self.need_install_libs ==True):\n",
    "\n",
    "            with os.popen(\"pip install pandas\") as f:\n",
    "                print(f.readlines())\n",
    "\n",
    "            with os.popen(\"pip install -U scikit-learn\") as f:\n",
    "                print(f.readlines())\n",
    "\n",
    "            with os.popen(\"pip install scikit-plot\") as f:\n",
    "                print(f.readlines())\n",
    "\n",
    "            with os.popen(\"pip install seaborn\") as f:\n",
    "                print(f.readlines())\n",
    "\n",
    "            with os.popen(\"pip install xgboost\") as f:\n",
    "                print(f.readlines())\n",
    "\n",
    "        else:\n",
    "            pass\n",
    "\n",
    "    @staticmethod\n",
    "    def _create_folder(name: str):\n",
    "\n",
    "        return os.makedirs(name)\n",
    "\n",
    "    def init_folders(self, BASE_PATH: Optional[str] = None):\n",
    "        \n",
    "        if BASE_PATH is not None:\n",
    "            for folder in self.folders:\n",
    "                if folder not in os.listdir(BASE_PATH):\n",
    "                    self._create_folder(folder)\n",
    "        else:\n",
    "            for folder in self.folders:\n",
    "                if folder not in os.listdir(\"./\"):\n",
    "                    self._create_folder(folder)\n",
    "    "
   ]
  },
  {
   "cell_type": "code",
   "execution_count": null,
   "metadata": {},
   "outputs": [],
   "source": [
    "%run imp.ipynb\n",
    "\n",
    "pp = Preprocess(\"./ai4i2020.csv\")\n",
    "df = pp.preprocess(\n",
    "    enc_columns = ['Type', 'Product ID'],\n",
    "    kelvin_columns = ['Air temperature [K]', 'Process temperature [K]']\n",
    ")\n",
    "\n",
    "imp = Impute(\n",
    "            data = df, \n",
    "            columns = ['Rotational speed [rpm]', 'Air temperature [K]'], \n",
    "            ITER_TO_PLOT = 40\n",
    "        )\n",
    "       \n",
    "pred, data = imp.impute_cols(distribution = \"normal\", num_vals = 1000)"
   ]
  },
  {
   "cell_type": "code",
   "execution_count": null,
   "metadata": {},
   "outputs": [],
   "source": []
  },
  {
   "cell_type": "code",
   "execution_count": null,
   "metadata": {},
   "outputs": [],
   "source": []
  },
  {
   "cell_type": "code",
   "execution_count": null,
   "metadata": {},
   "outputs": [],
   "source": []
  },
  {
   "cell_type": "code",
   "execution_count": null,
   "metadata": {},
   "outputs": [],
   "source": [
    "\n",
    "data = data[[\n",
    "    'Air temperature [K]', \n",
    "    'Machine failure', \n",
    "    'Torque [Nm]', \n",
    "    'Tool wear [min]', \n",
    "    'Rotational speed [rpm]',\n",
    "    'enc_Type',\n",
    "    'enc_Product ID',\n",
    "    'Process temperature [K]'\n",
    "    ]]\n",
    "\n",
    "data.head()\n"
   ]
  },
  {
   "cell_type": "code",
   "execution_count": null,
   "metadata": {},
   "outputs": [],
   "source": [
    "\n",
    "c = Classification(\n",
    "                    data = data,\n",
    "                    x_cols = [\n",
    "                            'Air temperature K', \n",
    "                            'Machine failure', \n",
    "                            'Torque Nm', \n",
    "                            'Tool wear min', \n",
    "                            'Rotational speed rpm',\n",
    "                            'enc_Type',\n",
    "                            'enc_Product ID',\n",
    "                            'Process temperature K'\n",
    "                            ],\n",
    "                    y_col = 'Machine failure'  \n",
    "                )\n",
    "\n",
    "y, dummy, x, xgb_probas = c._classify()\n"
   ]
  },
  {
   "cell_type": "code",
   "execution_count": null,
   "metadata": {},
   "outputs": [],
   "source": [
    "class MainTask(Preprocess, Impute, Classification):\n",
    "    def __init__(\n",
    "                self, \n",
    "                data, \n",
    "                imp_columns,\n",
    "                class_cols,\n",
    "                pred_col, \n",
    "                iter_to_plot = 40, \n",
    "                data_path = './ai4i2020.csv'\n",
    "            ):\n",
    "\n",
    "        Preprocess.__init__(self, './ai4i2020.csv')\n",
    "        Impute.__init__(\n",
    "                        self,\n",
    "                        data = df, \n",
    "                        columns = ['Rotational speed [rpm]', 'Air temperature [K]'], \n",
    "                        ITER_TO_PLOT = 40\n",
    "                    )\n",
    "        Classification.__init__(\n",
    "                                self, \n",
    "                                data, \n",
    "                                x_cols = class_cols, \n",
    "                                y_col = pred_col\n",
    "        )\n",
    "\n",
    "                    "
   ]
  }
 ],
 "metadata": {
  "kernelspec": {
   "display_name": "base",
   "language": "python",
   "name": "python3"
  },
  "language_info": {
   "codemirror_mode": {
    "name": "ipython",
    "version": 3
   },
   "file_extension": ".py",
   "mimetype": "text/x-python",
   "name": "python",
   "nbconvert_exporter": "python",
   "pygments_lexer": "ipython3",
   "version": "3.9.12"
  },
  "orig_nbformat": 4,
  "vscode": {
   "interpreter": {
    "hash": "aa1784bfeff960945c80aea6bd6ac4fef92d6e84c0ddcfd84ffff405bb128edf"
   }
  }
 },
 "nbformat": 4,
 "nbformat_minor": 2
}
