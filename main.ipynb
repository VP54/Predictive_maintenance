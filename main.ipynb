{
 "cells": [
  {
   "cell_type": "code",
   "execution_count": 14,
   "metadata": {},
   "outputs": [],
   "source": [
    "import os\n",
    "from typing import Optional\n",
    "\n",
    "class InitFolders:\n",
    "    def __init__(self, folders):\n",
    "        self.folders = folders\n",
    "\n",
    "    @staticmethod\n",
    "    def _create_folder(name: str):\n",
    "\n",
    "        return os.makedirs(name)\n",
    "\n",
    "    def init_folders(self, BASE_PATH: Optional[str] = None):\n",
    "        \n",
    "        if BASE_PATH is not None:\n",
    "            for folder in self.folders:\n",
    "                if folder not in os.listdir(BASE_PATH):\n",
    "                    self._create_folder(folder)\n",
    "        else:\n",
    "            for folder in self.folders:\n",
    "                if folder not in os.listdir(\"./\"):\n",
    "                    self._create_folder(folder)\n",
    "\n",
    "    \n"
   ]
  }
 ],
 "metadata": {
  "kernelspec": {
   "display_name": "base",
   "language": "python",
   "name": "python3"
  },
  "language_info": {
   "codemirror_mode": {
    "name": "ipython",
    "version": 3
   },
   "file_extension": ".py",
   "mimetype": "text/x-python",
   "name": "python",
   "nbconvert_exporter": "python",
   "pygments_lexer": "ipython3",
   "version": "3.9.12"
  },
  "orig_nbformat": 4,
  "vscode": {
   "interpreter": {
    "hash": "aa1784bfeff960945c80aea6bd6ac4fef92d6e84c0ddcfd84ffff405bb128edf"
   }
  }
 },
 "nbformat": 4,
 "nbformat_minor": 2
}
