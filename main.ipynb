{
 "cells": [
  {
   "cell_type": "code",
   "execution_count": null,
   "metadata": {},
   "outputs": [],
   "source": [
    "%run init.ipynb  \n",
    "        \n",
    "init = InitFolders(folders = [\"data\", \"img\", \"img/corr\", \"img/hist1d\", \"hist2d\", \"scatter\", \"img/overview\"], need_install_libs=True)\n",
    "\n",
    "init.INIT(\"./\")\n"
   ]
  },
  {
   "cell_type": "code",
   "execution_count": null,
   "metadata": {},
   "outputs": [],
   "source": [
    "%run preprocess.ipynb"
   ]
  },
  {
   "cell_type": "code",
   "execution_count": null,
   "metadata": {},
   "outputs": [],
   "source": [
    "%run plot.ipynb"
   ]
  },
  {
   "cell_type": "code",
   "execution_count": null,
   "metadata": {},
   "outputs": [],
   "source": [
    "%run imp.ipynb"
   ]
  },
  {
   "cell_type": "code",
   "execution_count": null,
   "metadata": {},
   "outputs": [],
   "source": [
    "%run predict.ipynb"
   ]
  },
  {
   "cell_type": "code",
   "execution_count": null,
   "metadata": {},
   "outputs": [],
   "source": [
    "%run ./explo.ipynb"
   ]
  },
  {
   "cell_type": "code",
   "execution_count": null,
   "metadata": {},
   "outputs": [],
   "source": [
    "import os\n",
    "from typing import Optional\n",
    "import pandas as pd\n",
    "import numpy as np"
   ]
  },
  {
   "cell_type": "code",
   "execution_count": null,
   "metadata": {},
   "outputs": [],
   "source": [
    "\n",
    "%run imp.ipynb\n",
    "\n",
    "pp = Preprocess(\"./ai4i2020.csv\")\n",
    "df = pp.preprocess(\n",
    "    enc_columns = ['Type', 'Product ID'],\n",
    "    kelvin_columns = ['Air temperature [K]', 'Process temperature [K]']\n",
    ")\n",
    "\n",
    "df = pd.read_csv('ai4i2020.csv')\n",
    "\n",
    "explo = ExplorationPlot(data = df)\n",
    "\n",
    "\n",
    "\n",
    "explo._create_exploration_report(\n",
    "                                #plot_2d_names = [\n",
    "                                #                'Type', 'Air temperature [K]', 'Process temperature [K]',   \\\n",
    "                                #                'Rotational speed [rpm]', 'Torque [Nm]',                    \\                                \n",
    "                                #                'Tool wear [min]', 'Machine failure'                        \\\n",
    "                                #                ],\n",
    "                                plot_2d_names = ['Rotational speed [rpm]', 'Torque [Nm]'],\n",
    "                                save_plot_1d = True,\n",
    "                                save_plot_2d = True,\n",
    "                                save_plot_corr = True,\n",
    "                                save_plot_overview = True\n",
    "                            )\n",
    "\n",
    "\n",
    "\n",
    "imp = Impute(\n",
    "            data = df, \n",
    "            columns = ['Rotational speed [rpm]', 'Air temperature [K]'], \n",
    "            ITER_TO_PLOT = 40\n",
    "        )\n",
    "       \n",
    "pred, data = imp.impute_cols(distribution = \"normal\", num_vals = 1000)\n",
    "\n",
    "\n",
    "data = data[[\n",
    "    'Air temperature [K]', \n",
    "    'Machine failure', \n",
    "    'Torque [Nm]', \n",
    "    'Tool wear [min]', \n",
    "    'Rotational speed [rpm]',\n",
    "    'enc_Type',\n",
    "    'enc_Product ID',\n",
    "    'Process temperature [K]'\n",
    "    ]]\n",
    "\n",
    "data.head()\n",
    "\n",
    "\n",
    "\n",
    "c = Classification(\n",
    "                    data = data,\n",
    "                    x_cols = [\n",
    "                            'Air temperature K', \n",
    "                            'Machine failure', \n",
    "                            'Torque Nm', \n",
    "                            'Tool wear min', \n",
    "                            'Rotational speed rpm',\n",
    "                            'enc_Type',\n",
    "                            'enc_Product ID',\n",
    "                            'Process temperature K'\n",
    "                            ],\n",
    "                    y_col = 'Machine failure'  \n",
    "                )\n",
    "\n",
    "y, dummy, x, xgb_probas = c._classify()\n"
   ]
  },
  {
   "cell_type": "code",
   "execution_count": null,
   "metadata": {},
   "outputs": [],
   "source": [
    "'''\n",
    "class Main(Preprocess, Impute, Classification):\n",
    "    def __init__(\n",
    "                self, \n",
    "                data, \n",
    "                imp_columns,\n",
    "                class_cols,\n",
    "                pred_col, \n",
    "                iter_to_plot = 40, \n",
    "                data_path = './ai4i2020.csv'\n",
    "            ):\n",
    "\n",
    "        Preprocess.__init__(self, './ai4i2020.csv')\n",
    "        Impute.__init__(\n",
    "                        self,\n",
    "                        data = data, \n",
    "                        columns = ['Rotational speed [rpm]', 'Air temperature [K]'], \n",
    "                        ITER_TO_PLOT = 40\n",
    "                    )\n",
    "        Classification.__init__(\n",
    "                                self, \n",
    "                                data, \n",
    "                                x_cols = class_cols, \n",
    "                                y_col = pred_col\n",
    "        )\n",
    "    \n",
    "    def run(self):\n",
    "        \n",
    "        self.data = Preprocess.preprocess(\n",
    "            enc_columns = ['Type', 'Product ID'],\n",
    "            kelvin_columns = ['Air temperature [K]', 'Process temperature [K]']\n",
    "        )\n",
    "        \n",
    "        pred, data = Impute.impute_cols(distribution = \"normal\", num_vals = 1000)\n",
    "        y, dummy, x, xgb_probas = Classification._classify()\n",
    "        \n",
    "\n",
    "        \n",
    "'''\n",
    "                    "
   ]
  }
 ],
 "metadata": {
  "kernelspec": {
   "display_name": "base",
   "language": "python",
   "name": "python3"
  },
  "language_info": {
   "codemirror_mode": {
    "name": "ipython",
    "version": 3
   },
   "file_extension": ".py",
   "mimetype": "text/x-python",
   "name": "python",
   "nbconvert_exporter": "python",
   "pygments_lexer": "ipython3",
   "version": "3.10.8 (main, Nov 24 2022, 08:08:27) [Clang 14.0.6 ]"
  },
  "orig_nbformat": 4,
  "vscode": {
   "interpreter": {
    "hash": "00053946abe63b911a8cb9e3e8606bd8c7e26bc7a554a27145a93df087f594fd"
   }
  }
 },
 "nbformat": 4,
 "nbformat_minor": 2
}
