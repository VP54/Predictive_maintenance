{
 "cells": [
  {
   "cell_type": "code",
   "execution_count": 1,
   "metadata": {},
   "outputs": [],
   "source": [
    "import numpy as np\n",
    "import pandas as pd\n",
    "from typing import Optional\n",
    "from sklearn.preprocessing import OrdinalEncoder\n",
    "\n",
    "class PrintPreprocess:\n",
    "    def __init__(self, line):\n",
    "        self.line = \"--\" * 25\n",
    "    \n",
    "    \n",
    "    def __print_encoding_categories(self, enc):\n",
    "\n",
    "        print(self.line + \"Encoding information: \\n\")\n",
    "        print(enc.categories_)\n",
    "    \n",
    "    def __print_data_info(self, df):\n",
    "        \n",
    "        print(self.line +  \"Columns: \\n\")\n",
    "        print(df.info())\n",
    "        print(self.line + \"Basic statistics: \\n\")\n",
    "        print(df.describe())\n",
    "\n",
    "\n",
    "class Preprocess(PrintPreprocess):\n",
    "\n",
    "    def __init__(self, data_path: str, encoding_type: str):\n",
    "\n",
    "        self.data_path = data_path\n",
    "        self.encoding_type = encoding_type\n",
    "    \n",
    "    def _load_data(self):\n",
    "        \n",
    "        self.data = pd.read_csv(self.data_path)\n",
    "\n",
    "    def _encode(self):\n",
    "        enc = OrdinalEncoder()\n",
    "        enc.fit(self.data)\n",
    "        \n",
    "        return enc.transform()\n",
    "\n",
    "    def _kelvin_to_celsius(self, column_name: str):\n",
    "        \n",
    "        return self.data[column_name].apply(lambda x: x - 273.15)\n",
    "    \n",
    "    def _slice_data(self, columns):\n",
    "\n",
    "        return self.data[[columns]]\n",
    "    \n",
    "\n",
    "    \n",
    "    \n",
    "\n"
   ]
  }
 ],
 "metadata": {
  "kernelspec": {
   "display_name": "base",
   "language": "python",
   "name": "python3"
  },
  "language_info": {
   "codemirror_mode": {
    "name": "ipython",
    "version": 3
   },
   "file_extension": ".py",
   "mimetype": "text/x-python",
   "name": "python",
   "nbconvert_exporter": "python",
   "pygments_lexer": "ipython3",
   "version": "3.9.12"
  },
  "orig_nbformat": 4,
  "vscode": {
   "interpreter": {
    "hash": "aa1784bfeff960945c80aea6bd6ac4fef92d6e84c0ddcfd84ffff405bb128edf"
   }
  }
 },
 "nbformat": 4,
 "nbformat_minor": 2
}
