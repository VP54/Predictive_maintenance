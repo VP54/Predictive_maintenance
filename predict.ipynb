{
 "cells": [
  {
   "cell_type": "code",
   "execution_count": null,
   "metadata": {},
   "outputs": [],
   "source": [
    "%run ./imp.ipynb"
   ]
  },
  {
   "cell_type": "code",
   "execution_count": null,
   "metadata": {},
   "outputs": [],
   "source": [
    "%run ./score.ipynb"
   ]
  },
  {
   "cell_type": "code",
   "execution_count": null,
   "metadata": {},
   "outputs": [],
   "source": [
    "%run ./plot.ipynb"
   ]
  },
  {
   "cell_type": "code",
   "execution_count": 115,
   "metadata": {},
   "outputs": [
    {
     "name": "stdout",
     "output_type": "stream",
     "text": [
      "0.9693939393939394\n"
     ]
    }
   ],
   "source": [
    "from sklearn.model_selection import train_test_split\n",
    "from sklearn.dummy import DummyClassifier\n",
    "from typing import List\n",
    "import xgboost as xgb\n",
    "\n",
    "\n",
    "class Classification(EM_impute):\n",
    "\n",
    "    def __init__(self, data, x_cols: List[str], y_col: str, array = None):\n",
    "\n",
    "        self.data = data\n",
    "        self.x_cols = x_cols\n",
    "        self.y_col = y_col\n",
    "        super().__init__(array)\n",
    "\n",
    "    @staticmethod\n",
    "    def _save_data(data, name: str):\n",
    "\n",
    "        pd.DataFrame(data).to_csv(f\"./data/{name}.csv\")\n",
    "\n",
    "    @staticmethod\n",
    "    def _parse_columns(df, cols = {}):\n",
    "        for col in list(df.columns.values):\n",
    "            new_col = col.replace(\"[\", \"\")\n",
    "            new_col = new_col.replace(\"]\", \"\")\n",
    "            \n",
    "            cols.update({col: new_col})\n",
    "\n",
    "        return df.rename(columns=cols)\n",
    "\n",
    "    def _get_baseline_clf(self):\n",
    "        self._split_data()\n",
    "\n",
    "        dummy_clf = DummyClassifier(strategy=\"most_frequent\")\n",
    "        dummy_clf.fit(self.X_train, self.y_train)\n",
    "\n",
    "        self.dummy = dummy_clf.predict(self.X_test)\n",
    "\n",
    "        print(dummy_clf.score(self.X_test, self.y_test))\n",
    "\n",
    "    \n",
    "    def _split_data(self):\n",
    "\n",
    "        self.X_train, self.X_test, self.y_train, self.y_test = train_test_split(\n",
    "                                                                                self.data[self.x_cols], \n",
    "                                                                                self.data[self.y_col], \n",
    "                                                                                test_size=0.33, \n",
    "                                                                                random_state=42\n",
    "                                                                            )\n",
    "    \n",
    "    def _xgb_fit(self):\n",
    "\n",
    "        self.data = self._parse_columns(self.data)\n",
    "        self._split_data()       \n",
    "\n",
    "        xgb_classifier = xgb.XGBClassifier()\n",
    "        self.fitted_clf = xgb_classifier.fit(self.X_train, self.y_train)\n",
    "\n",
    "\n",
    "    def _classify_xgboost(self):\n",
    "\n",
    "        self._xgb_fit()\n",
    "        self.xgb_predictions = self.fitted_clf.predict(self.X_test)\n",
    "\n",
    "        return self.xgb_predictions\n",
    "\n",
    "    def _probas_xgboost(self):\n",
    "\n",
    "        \n",
    "        self.xgb_probas = self.fitted_clf.predict_proba(self.X_test)\n",
    "\n",
    "        return self.xgb_probas\n",
    "\n",
    "    def _classify(self):\n",
    "        self._classify_xgboost()\n",
    "        self._get_baseline_clf()\n",
    "        self._probas_xgboost()\n",
    "\n",
    "        self._save_data(self.dummy, \"dummy\")\n",
    "        self._save_data(self.xgb_probas, \"xgb\")\n",
    "        self._save_data(self.xgb_predictions, \"xgb_proba\")\n",
    "\n",
    "        return self.y_test, self.dummy, self.xgb_predictions, self.xgb_probas\n",
    "\n",
    "'''    \n",
    "df = pd.read_csv(\"./ai4i2020.csv\")\n",
    "df = df[['Air temperature [K]', 'Machine failure', 'Torque [Nm]', 'Tool wear [min]', 'Rotational speed [rpm]']]\n",
    "\n",
    "c = Classification(\n",
    "                    data = df,\n",
    "                    x_cols = ['Air temperature K', 'Torque Nm', 'Tool wear min', 'Rotational speed rpm'],\n",
    "                    y_col = 'Machine failure'  \n",
    "                )\n",
    "\n",
    "y, dummy, x, xgb_probas = c._classify()\n",
    "'''\n"
   ]
  }
 ],
 "metadata": {
  "kernelspec": {
   "display_name": "base",
   "language": "python",
   "name": "python3"
  },
  "language_info": {
   "codemirror_mode": {
    "name": "ipython",
    "version": 3
   },
   "file_extension": ".py",
   "mimetype": "text/x-python",
   "name": "python",
   "nbconvert_exporter": "python",
   "pygments_lexer": "ipython3",
   "version": "3.9.12 (main, Apr  4 2022, 05:22:27) [MSC v.1916 64 bit (AMD64)]"
  },
  "orig_nbformat": 4,
  "vscode": {
   "interpreter": {
    "hash": "aa1784bfeff960945c80aea6bd6ac4fef92d6e84c0ddcfd84ffff405bb128edf"
   }
  }
 },
 "nbformat": 4,
 "nbformat_minor": 2
}
