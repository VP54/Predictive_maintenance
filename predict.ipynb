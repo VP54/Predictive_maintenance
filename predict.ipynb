{
 "cells": [
  {
   "cell_type": "code",
   "execution_count": 1,
   "metadata": {},
   "outputs": [],
   "source": [
    "%run ./imp.ipynb"
   ]
  },
  {
   "cell_type": "code",
   "execution_count": null,
   "metadata": {},
   "outputs": [],
   "source": [
    "from sklearn.model_selection import train_test_split\n",
    "from typing import List\n",
    "\n",
    "class Classification(EM_impute):\n",
    "\n",
    "    def __init__(self, data, x_cols: List[str], y_col: str, array = None):\n",
    "        self.data = data\n",
    "        super().__init__(array)\n",
    "    \n",
    "    def _split_data(self):\n",
    "        self.X_train, self.X_test, self.y_train, self.y_test = train_test_split(\n",
    "                                                                                self.data[self.x_cols], \n",
    "                                                                                self.data[self.y_col], \n",
    "                                                                                test_size=0.33, \n",
    "                                                                                random_state=42\n",
    "                                                                            )\n",
    "\n",
    "\n",
    "    def _train_predict_probas(self):\n",
    "        pass\n"
   ]
  }
 ],
 "metadata": {
  "kernelspec": {
   "display_name": "base",
   "language": "python",
   "name": "python3"
  },
  "language_info": {
   "codemirror_mode": {
    "name": "ipython",
    "version": 3
   },
   "file_extension": ".py",
   "mimetype": "text/x-python",
   "name": "python",
   "nbconvert_exporter": "python",
   "pygments_lexer": "ipython3",
   "version": "3.9.12"
  },
  "orig_nbformat": 4,
  "vscode": {
   "interpreter": {
    "hash": "aa1784bfeff960945c80aea6bd6ac4fef92d6e84c0ddcfd84ffff405bb128edf"
   }
  }
 },
 "nbformat": 4,
 "nbformat_minor": 2
}
