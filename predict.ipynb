{
 "cells": [
  {
   "cell_type": "code",
   "execution_count": 1,
   "metadata": {},
   "outputs": [],
   "source": [
    "%run ./imp.ipynb"
   ]
  },
  {
   "cell_type": "code",
   "execution_count": 28,
   "metadata": {},
   "outputs": [],
   "source": [
    "%run ./score.ipynb"
   ]
  },
  {
   "cell_type": "code",
   "execution_count": 51,
   "metadata": {},
   "outputs": [
    {
     "name": "stdout",
     "output_type": "stream",
     "text": [
      "0.9693939393939394\n"
     ]
    }
   ],
   "source": [
    "from sklearn.model_selection import train_test_split\n",
    "from sklearn.dummy import DummyClassifier\n",
    "from typing import List\n",
    "import xgboost as xgb\n",
    "\n",
    "\n",
    "class Classification(EM_impute):\n",
    "\n",
    "    def __init__(self, data, x_cols: List[str], y_col: str, array = None):\n",
    "\n",
    "        self.data = data\n",
    "        self.x_cols = x_cols\n",
    "        self.y_col = y_col\n",
    "        super().__init__(array)\n",
    "\n",
    "    @staticmethod\n",
    "    def _parse_columns(df, cols = {}):\n",
    "        for col in list(df.columns.values):\n",
    "            new_col = col.replace(\"[\", \"\")\n",
    "            new_col = new_col.replace(\"]\", \"\")\n",
    "            \n",
    "            cols.update({col: new_col})\n",
    "\n",
    "        return df.rename(columns=cols)\n",
    "\n",
    "    def _get_baseline_clf(self):\n",
    "        self._split_data()\n",
    "\n",
    "        dummy_clf = DummyClassifier(strategy=\"most_frequent\")\n",
    "        dummy_clf.fit(self.X_train, self.y_train)\n",
    "\n",
    "        self.dummy = dummy_clf.predict(self.X_test)\n",
    "\n",
    "        print(dummy_clf.score(self.X_test, self.y_test))\n",
    "\n",
    "    \n",
    "    def _split_data(self):\n",
    "\n",
    "        self.X_train, self.X_test, self.y_train, self.y_test = train_test_split(\n",
    "                                                                                self.data[self.x_cols], \n",
    "                                                                                self.data[self.y_col], \n",
    "                                                                                test_size=0.33, \n",
    "                                                                                random_state=42\n",
    "                                                                            )\n",
    "\n",
    "    def _classify_xgboost(self):\n",
    "\n",
    "        self.data = self._parse_columns(self.data)\n",
    "        self._split_data()       \n",
    "\n",
    "        xgb_classifier = xgb.XGBClassifier()\n",
    "        xgb_classifier.fit(self.X_train, self.y_train)\n",
    "        self.xgb_predictions = xgb_classifier.predict(self.X_test)\n",
    "\n",
    "        return self.xgb_predictions\n",
    "\n",
    "    def _classify(self):\n",
    "        self._classify_xgboost()\n",
    "        self._get_baseline_clf()\n",
    "\n",
    "        return self.y_test, self.dummy, self.xgb_predictions\n",
    "\n",
    "    \n",
    "df = pd.read_csv(\"./ai4i2020.csv\")\n",
    "df = df[['Air temperature [K]', 'Machine failure', 'Torque [Nm]', 'Tool wear [min]', 'Rotational speed [rpm]']]\n",
    "\n",
    "c = Classification(\n",
    "                    data = df,\n",
    "                    x_cols = ['Air temperature K', 'Torque Nm', 'Tool wear min', 'Rotational speed rpm'],\n",
    "                    y_col = 'Machine failure'  \n",
    "                )\n",
    "\n",
    "y, dummy, xgb = c._classify()\n"
   ]
  },
  {
   "cell_type": "code",
   "execution_count": 53,
   "metadata": {},
   "outputs": [
    {
     "data": {
      "text/plain": [
       "'              precision    recall  f1-score   support\\n\\n           0       0.99      0.99      0.99      3199\\n           1       0.63      0.54      0.59       101\\n\\n    accuracy                           0.98      3300\\n   macro avg       0.81      0.77      0.79      3300\\nweighted avg       0.97      0.98      0.98      3300\\n'"
      ]
     },
     "execution_count": 53,
     "metadata": {},
     "output_type": "execute_result"
    }
   ],
   "source": [
    "classification_report(y, xgb)"
   ]
  },
  {
   "cell_type": "code",
   "execution_count": 54,
   "metadata": {},
   "outputs": [
    {
     "name": "stderr",
     "output_type": "stream",
     "text": [
      "c:\\Users\\On\\anaconda3\\lib\\site-packages\\sklearn\\metrics\\_classification.py:1327: UndefinedMetricWarning: Precision and F-score are ill-defined and being set to 0.0 in labels with no predicted samples. Use `zero_division` parameter to control this behavior.\n",
      "  _warn_prf(average, modifier, msg_start, len(result))\n",
      "c:\\Users\\On\\anaconda3\\lib\\site-packages\\sklearn\\metrics\\_classification.py:1327: UndefinedMetricWarning: Precision and F-score are ill-defined and being set to 0.0 in labels with no predicted samples. Use `zero_division` parameter to control this behavior.\n",
      "  _warn_prf(average, modifier, msg_start, len(result))\n",
      "c:\\Users\\On\\anaconda3\\lib\\site-packages\\sklearn\\metrics\\_classification.py:1327: UndefinedMetricWarning: Precision and F-score are ill-defined and being set to 0.0 in labels with no predicted samples. Use `zero_division` parameter to control this behavior.\n",
      "  _warn_prf(average, modifier, msg_start, len(result))\n"
     ]
    },
    {
     "data": {
      "text/plain": [
       "'              precision    recall  f1-score   support\\n\\n           0       0.97      1.00      0.98      3199\\n           1       0.00      0.00      0.00       101\\n\\n    accuracy                           0.97      3300\\n   macro avg       0.48      0.50      0.49      3300\\nweighted avg       0.94      0.97      0.95      3300\\n'"
      ]
     },
     "execution_count": 54,
     "metadata": {},
     "output_type": "execute_result"
    }
   ],
   "source": [
    "classification_report(y, dummy)"
   ]
  }
 ],
 "metadata": {
  "kernelspec": {
   "display_name": "base",
   "language": "python",
   "name": "python3"
  },
  "language_info": {
   "codemirror_mode": {
    "name": "ipython",
    "version": 3
   },
   "file_extension": ".py",
   "mimetype": "text/x-python",
   "name": "python",
   "nbconvert_exporter": "python",
   "pygments_lexer": "ipython3",
   "version": "3.9.12"
  },
  "orig_nbformat": 4,
  "vscode": {
   "interpreter": {
    "hash": "aa1784bfeff960945c80aea6bd6ac4fef92d6e84c0ddcfd84ffff405bb128edf"
   }
  }
 },
 "nbformat": 4,
 "nbformat_minor": 2
}
